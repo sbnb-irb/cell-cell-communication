{
 "cells": [
  {
   "cell_type": "markdown",
   "id": "54dd263c-4dfc-486d-bea4-35d3ab2f2b0e",
   "metadata": {},
   "source": [
    "# Prepare input CytoSpace"
   ]
  },
  {
   "cell_type": "code",
   "execution_count": 3,
   "id": "f94f1211",
   "metadata": {},
   "outputs": [],
   "source": [
    "global_path = './cell-cell-communication/' ## Path to the github downloaded repository"
   ]
  },
  {
   "cell_type": "code",
   "execution_count": 1,
   "id": "7ccf31c6-cf52-4000-8821-d5b7878fc080",
   "metadata": {},
   "outputs": [],
   "source": [
    "import scanpy as sc\n",
    "import pandas as pd\n",
    "import matplotlib.pyplot as plt\n",
    "import seaborn as sns\n",
    "import numpy as np\n",
    "import diopy\n",
    "out_path = global_path + 'Data/Brain/Input_cytoSPACE/'\n"
   ]
  },
  {
   "cell_type": "markdown",
   "id": "76d240f6",
   "metadata": {},
   "source": [
    "## Convert to AnnData and Human"
   ]
  },
  {
   "cell_type": "markdown",
   "id": "b2bb4eed",
   "metadata": {},
   "source": [
    "This data was downloaded from the example of CellTrek, so it is in Seurat format, we need to convert it. Moreover, we need to map the genes to human (we download the mapping from BioMart)"
   ]
  },
  {
   "cell_type": "code",
   "execution_count": 20,
   "id": "1c69418f",
   "metadata": {},
   "outputs": [],
   "source": [
    "# adata_st = diopy.input.read_h5(file = global_path+'Data/Brain/stdata.h5', assay_name='spatial')\n",
    "# adata_ref = diopy.input.read_h5(file = global_path+'Data/Brain/scdata.h5')\n",
    "\n",
    "\n",
    "# mouse2hum = pd.read_csv(global_path + 'Data/mouse2human.csv')\n",
    "# mouse2hum = mouse2hum.dropna(subset = ['Human gene name'])\n",
    "# mouse2hum = mouse2hum.dropna(subset = ['Gene name'])\n",
    "# m2h = dict(zip(mouse2hum['Gene name'].tolist(), mouse2hum['Human gene name'].tolist()))\n",
    "\n",
    "# ## Mapping\n",
    "# gene_h = []\n",
    "# for i in adata_ref.var.index:\n",
    "#     try:\n",
    "#         gene_h.append(m2h[i])\n",
    "#     except:\n",
    "#         gene_h.append(i)\n",
    "\n",
    "# adata_ref.var['genes.human'] = gene_h\n",
    "# adata_ref.var = adata_ref.var.reset_index().set_index('genes.human')\n",
    "\n",
    "# gene_h = []\n",
    "# for i in adata_st.var.index:\n",
    "#     try:\n",
    "#         gene_h.append(m2h[i])\n",
    "#     except:\n",
    "#         gene_h.append(i)\n",
    "\n",
    "# adata_st.var['genes.human'] = gene_h\n",
    "# adata_st.var = adata_st.var.reset_index().set_index('genes.human')\n",
    "\n",
    "# adata_ref.write(global_path + 'Data/Brain/scdata.h5ad')\n",
    "# adata_st.write(global_path + 'Data/Brain/stdata.h5ad')\n"
   ]
  },
  {
   "cell_type": "markdown",
   "id": "5f8a0139",
   "metadata": {},
   "source": [
    "\n",
    "# Load data"
   ]
  },
  {
   "cell_type": "code",
   "execution_count": 25,
   "metadata": {},
   "outputs": [
    {
     "name": "stderr",
     "output_type": "stream",
     "text": [
      "/home/epareja/miniconda3/envs/cell2loc_env/lib/python3.9/site-packages/anndata/_core/anndata.py:1832: UserWarning: Variable names are not unique. To make them unique, call `.var_names_make_unique`.\n",
      "  utils.warn_names_duplicates(\"var\")\n",
      "/home/epareja/miniconda3/envs/cell2loc_env/lib/python3.9/site-packages/anndata/_core/anndata.py:1832: UserWarning: Variable names are not unique. To make them unique, call `.var_names_make_unique`.\n",
      "  utils.warn_names_duplicates(\"var\")\n"
     ]
    }
   ],
   "source": [
    "adata = sc.read(global_path + 'Data/Brain/scdata.h5ad')\n",
    "adata_st = sc.read(global_path + 'Data/Brain/stdata.h5ad')\n",
    "adata.var_names_make_unique()\n",
    "adata_st.var_names_make_unique()\n"
   ]
  },
  {
   "cell_type": "markdown",
   "id": "d5cc2db0",
   "metadata": {},
   "source": [
    "# Save raw scRNA-seq counts as tsv file"
   ]
  },
  {
   "cell_type": "code",
   "execution_count": 28,
   "id": "1611c5ac-4652-4de1-a639-479c8650c3ec",
   "metadata": {},
   "outputs": [],
   "source": [
    "counts = pd.DataFrame(adata.layers['counts'].toarray()).T\n",
    "counts.columns = adata.obs.index\n",
    "counts.index = adata.var.index\n",
    "counts.index.name='GENES'\n",
    "counts.to_csv(out_path + 'GEX.tsv', sep = '\\t')"
   ]
  },
  {
   "cell_type": "markdown",
   "id": "bd54d8ce",
   "metadata": {},
   "source": [
    "# Add Celltype information"
   ]
  },
  {
   "cell_type": "code",
   "execution_count": 29,
   "id": "e06e2ddf-13e5-42ff-8eb3-d077d138de8b",
   "metadata": {},
   "outputs": [],
   "source": [
    "cell_label = pd.DataFrame(adata.obs.cell_type)\n",
    "cell_label.columns = ['CellType']\n",
    "cell_label.index.name='Cell IDs'\n",
    "cell_label.to_csv(out_path + 'cell_label.tsv', sep = '\\t')"
   ]
  },
  {
   "cell_type": "markdown",
   "id": "d54db017-1242-46d6-aa73-83e2d4183f71",
   "metadata": {},
   "source": [
    "# Save raw spatial counts"
   ]
  },
  {
   "cell_type": "code",
   "execution_count": 30,
   "id": "6fa71f69-325c-4383-9d51-3d1a4fe708b2",
   "metadata": {},
   "outputs": [],
   "source": [
    "counts_sp = pd.DataFrame(adata_st.layers['counts'].toarray()).T\n",
    "counts_sp.columns = adata_st.obs.index\n",
    "counts_sp.index = adata_st.var.index\n",
    "counts_sp.index.name='V1'\n",
    "counts_sp.to_csv(out_path + 'GEX_sp.tsv', sep = '\\t')"
   ]
  },
  {
   "cell_type": "markdown",
   "id": "11802a82-b29d-4e72-95a1-f872a1066432",
   "metadata": {},
   "source": [
    "# Add coords"
   ]
  },
  {
   "cell_type": "code",
   "execution_count": 31,
   "id": "3febc7ad-1bbf-4140-8eab-0d00b1bd3dbc",
   "metadata": {},
   "outputs": [],
   "source": [
    "coords = pd.DataFrame(adata_st.obsm['spatial'])\n",
    "coords.columns = ['row', 'col']\n",
    "coords.index  = adata_st.obs.index\n",
    "coords.index.name='SpotID'\n",
    "coords.to_csv(out_path + 'coords.tsv', sep = '\\t')"
   ]
  },
  {
   "cell_type": "markdown",
   "id": "68d8257e",
   "metadata": {},
   "source": [
    "# Run cytoSPACE using the terminal (bash)"
   ]
  },
  {
   "cell_type": "code",
   "execution_count": null,
   "id": "31609559-564c-42a9-9a0a-cec193a382ff",
   "metadata": {
    "vscode": {
     "languageId": "shellscript"
    }
   },
   "outputs": [],
   "source": [
    "cytospace \\\n",
    "   -sp ./Data/Breast/Input_cytoSPACE/GEX.tsv \\\n",
    "   -ctp ./Data/Breast/Input_cytoSPACE/cell_label.tsv \\\n",
    "   -stp ./Data/Breast/Input_cytoSPACE/GEX_sp.tsv \\\n",
    "   -cp ./Data/Breast/Input_cytoSPACE/coords.tsv \\\n",
    "   -o ./Results/Brain/CytoSPACE/\n"
   ]
  }
 ],
 "metadata": {
  "kernelspec": {
   "display_name": "cpdb_v4",
   "language": "python",
   "name": "python3"
  },
  "language_info": {
   "codemirror_mode": {
    "name": "ipython",
    "version": 3
   },
   "file_extension": ".py",
   "mimetype": "text/x-python",
   "name": "python",
   "nbconvert_exporter": "python",
   "pygments_lexer": "ipython3",
   "version": "3.9.16"
  }
 },
 "nbformat": 4,
 "nbformat_minor": 5
}
