{
 "cells": [
  {
   "cell_type": "markdown",
   "id": "54dd263c-4dfc-486d-bea4-35d3ab2f2b0e",
   "metadata": {},
   "source": [
    "# Prepare input CytoSPACE"
   ]
  },
  {
   "cell_type": "code",
   "execution_count": 2,
   "id": "174ef567",
   "metadata": {},
   "outputs": [],
   "source": [
    "global_path = './cell-cell-communication/' ## Path to the github downloaded repository"
   ]
  },
  {
   "cell_type": "code",
   "execution_count": 3,
   "id": "7ccf31c6-cf52-4000-8821-d5b7878fc080",
   "metadata": {},
   "outputs": [],
   "source": [
    "import scanpy as sc\n",
    "import pandas as pd\n",
    "import matplotlib.pyplot as plt\n",
    "import seaborn as sns\n",
    "import numpy as np\n",
    "\n",
    "out_path = global_path + 'Data/Heart/Input_cytoSPACE/'\n"
   ]
  },
  {
   "cell_type": "markdown",
   "id": "8aaad796-ed27-4074-9693-8f47766265f9",
   "metadata": {
    "tags": []
   },
   "source": [
    "## Load data "
   ]
  },
  {
   "cell_type": "code",
   "execution_count": 4,
   "id": "2de3fa5d",
   "metadata": {},
   "outputs": [],
   "source": [
    "# Load raw data\n",
    "adata_sp = sc.read(global_path+'Data/Heart/visium-OCT_adult-8reg-revision_raw.h5ad')\n",
    "adata_sc = sc.read(global_path+'Data/Heart/RNA_adult-8reg_full_raw_cellstate-annotated.h5ad')\n",
    "\n",
    "adata_sc.var_names = adata_sc.var['gene_name-new'].astype(str)\n",
    "adata_sp.var_names = adata_sp.var['SYMBOL']\n",
    "\n",
    "adata_sc.var_names_make_unique()\n",
    "adata_sp.var_names_make_unique()"
   ]
  },
  {
   "cell_type": "code",
   "execution_count": 8,
   "id": "d452ed6b",
   "metadata": {},
   "outputs": [],
   "source": [
    "# Select the SAN or the AVN data\n",
    "adata_sc = adata_sc[adata_sc.obs.region == 'SAN'] # Select the region\n",
    "adata_sc = adata_sc[adata_sc.obs.donor == 'AH1'] # Select the donor\n",
    "adata_sc = adata_sc[adata_sc.obs.cell_state != 'unclassified'] # Remove unclassified cells\n",
    "\n",
    "adata_sp = adata_sp[adata_sp.obs.region == 'SAN'] # Select the region\n",
    "adata_sp = adata_sp[adata_sp.obs.sangerID == 'HCAHeartST10659160'] # Select the spatial slide"
   ]
  },
  {
   "cell_type": "markdown",
   "id": "1b00f340",
   "metadata": {},
   "source": [
    "## Save raw scRNA-seq counts as tsv file"
   ]
  },
  {
   "cell_type": "code",
   "execution_count": 9,
   "id": "1611c5ac-4652-4de1-a639-479c8650c3ec",
   "metadata": {},
   "outputs": [],
   "source": [
    "counts = pd.DataFrame(adata_sc.X.toarray()).T\n",
    "counts.columns = adata_sc.obs.index\n",
    "counts.index = list(adata_sc.var.index)\n",
    "counts.index.name='GENES'\n",
    "counts.to_csv(out_path + 'SAN/GEX.tsv', sep = '\\t')"
   ]
  },
  {
   "cell_type": "markdown",
   "id": "e12e8be9-d645-4616-b5e4-0472dfe7789a",
   "metadata": {},
   "source": [
    "## Add Celltype information"
   ]
  },
  {
   "cell_type": "code",
   "execution_count": null,
   "id": "547ee5de-6218-4de9-8990-e73e9e9bcc83",
   "metadata": {},
   "outputs": [],
   "source": [
    "cell_label = pd.DataFrame(adata_sc.obs.cell_state)\n",
    "cell_label.columns = ['CellType']\n",
    "cell_label.index.name='Cell IDs'\n",
    "cell_label.to_csv(out_path + 'SAN/cell_label.tsv', sep = '\\t')"
   ]
  },
  {
   "cell_type": "markdown",
   "id": "6fa71f69-325c-4383-9d51-3d1a4fe708b2",
   "metadata": {},
   "source": [
    "# Save raw spatial counts"
   ]
  },
  {
   "cell_type": "code",
   "execution_count": null,
   "id": "4f85ccb0-543a-4e0b-bc70-9c041756c034",
   "metadata": {},
   "outputs": [],
   "source": [
    "counts_sp = pd.DataFrame(adata_sp.X.toarray()).T\n",
    "counts_sp.columns = adata_sp.obs.index\n",
    "counts_sp.index = list(adata_sp.var.index)\n",
    "counts_sp.index.name='V1'\n",
    "counts_sp.to_csv(out_path + 'SAN/GEX_sp.tsv', sep = '\\t')"
   ]
  },
  {
   "cell_type": "markdown",
   "id": "11802a82-b29d-4e72-95a1-f872a1066432",
   "metadata": {},
   "source": [
    "# Add coords"
   ]
  },
  {
   "cell_type": "code",
   "execution_count": null,
   "id": "3febc7ad-1bbf-4140-8eab-0d00b1bd3dbc",
   "metadata": {},
   "outputs": [],
   "source": [
    "coords = adata_sp.obs[['array_row', 'array_col']]\n",
    "coords.columns = ['row', 'col']\n",
    "coords.index.name='SpotID'\n",
    "coords.to_csv(out_path + 'SAN/coords.tsv', sep = '\\t')"
   ]
  },
  {
   "cell_type": "markdown",
   "id": "0d9fc14d",
   "metadata": {},
   "source": [
    "# Run cytoSPACE using the terminal (bash)"
   ]
  },
  {
   "cell_type": "code",
   "execution_count": null,
   "id": "31609559-564c-42a9-9a0a-cec193a382ff",
   "metadata": {
    "vscode": {
     "languageId": "shellscript"
    }
   },
   "outputs": [],
   "source": [
    "cytospace \\\n",
    "   -sp ./Data/Heart/Input_cytoSPACE/SAN/GEX.tsv \\\n",
    "   -ctp ./Data/Heart/Input_cytoSPACE/SAN/cell_label.tsv \\\n",
    "   -stp ./Data/Heart/Input_cytoSPACE/SAN/GEX_sp.tsv \\\n",
    "   -cp ./Data/Heart/Input_cytoSPACE/SAN/coords.tsv \\\n",
    "   -sam place_holders \\\n",
    "   -o ./Results/Heart/CytoSPACE/SAN/ \\   \n",
    "\n"
   ]
  }
 ],
 "metadata": {
  "kernelspec": {
   "display_name": "cell2loc_env",
   "language": "python",
   "name": "python3"
  },
  "language_info": {
   "codemirror_mode": {
    "name": "ipython",
    "version": 3
   },
   "file_extension": ".py",
   "mimetype": "text/x-python",
   "name": "python",
   "nbconvert_exporter": "python",
   "pygments_lexer": "ipython3",
   "version": "3.8.16"
  }
 },
 "nbformat": 4,
 "nbformat_minor": 5
}
