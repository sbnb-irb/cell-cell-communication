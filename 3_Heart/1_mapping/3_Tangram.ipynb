{
 "cells": [
  {
   "cell_type": "markdown",
   "id": "20d73835",
   "metadata": {},
   "source": [
    "# Tangram"
   ]
  },
  {
   "cell_type": "markdown",
   "id": "1af4d662",
   "metadata": {},
   "source": [
    " We followed the procedure outlined in the Tangram GitHub repository: https://github.com/broadinstitute/Tangram. Tangram is an integration method to combine spatial transcriptomics and single-cell RNA-seq data using a non-convex optimization alongside deep learning to leart a spatial alignment for single cell data."
   ]
  },
  {
   "cell_type": "markdown",
   "id": "9ae93b74",
   "metadata": {},
   "source": [
    "# Imports"
   ]
  },
  {
   "cell_type": "code",
   "execution_count": 1,
   "id": "7d98195a",
   "metadata": {},
   "outputs": [],
   "source": [
    "global_path = './cell-cell-communication/' ## Path to the github downloaded repository"
   ]
  },
  {
   "cell_type": "code",
   "execution_count": 2,
   "id": "858054d8",
   "metadata": {},
   "outputs": [
    {
     "name": "stderr",
     "output_type": "stream",
     "text": [
      "/home/epareja/miniconda3/envs/tangram-env/lib/python3.8/site-packages/tqdm/auto.py:21: TqdmWarning: IProgress not found. Please update jupyter and ipywidgets. See https://ipywidgets.readthedocs.io/en/stable/user_install.html\n",
      "  from .autonotebook import tqdm as notebook_tqdm\n"
     ]
    }
   ],
   "source": [
    "import scanpy as sc\n",
    "import tangram as tg\n",
    "import numpy as np\n",
    "import pandas as pd\n",
    "import matplotlib.pyplot as plt\n",
    "\n",
    "sc.settings.verbosity = 3\n",
    "sc.settings.set_figure_params(dpi=80, facecolor=\"white\")"
   ]
  },
  {
   "cell_type": "markdown",
   "id": "edf64619",
   "metadata": {},
   "source": [
    "## Load the data"
   ]
  },
  {
   "cell_type": "code",
   "execution_count": 5,
   "id": "23c346cc",
   "metadata": {},
   "outputs": [],
   "source": [
    "## NB: in this notebook we use the SAN region. For the AVN is the same, just change the files. \n",
    "# scRNA-seq data of the region and the patient\n",
    "adata_sc = sc.read(global_path + 'Data/Heart/Global_lognormalised_SAN_AH1.h5ad')\n",
    "# Spatial data of the region and select the patient\n",
    "adata_st = sc.read(global_path + 'Data/Heart/visium-OCT_SAN_lognormalised.h5ad')\n",
    "adata_st = adata_sp[adata_sp.obs.donor == 'AH1']"
   ]
  },
  {
   "cell_type": "markdown",
   "id": "47d4ed68",
   "metadata": {},
   "source": [
    "## Select common genes between spatial and the reference dataset"
   ]
  },
  {
   "cell_type": "code",
   "execution_count": 6,
   "id": "a0158720",
   "metadata": {},
   "outputs": [
    {
     "name": "stdout",
     "output_type": "stream",
     "text": [
      "filtered out 3251 genes that are detected in less than 1 cells\n",
      "filtered out 12278 genes that are detected in less than 1 cells\n"
     ]
    },
    {
     "name": "stderr",
     "output_type": "stream",
     "text": [
      "INFO:root:20399 training genes are saved in `uns``training_genes` of both single cell and spatial Anndatas.\n",
      "INFO:root:20399 overlapped genes are saved in `uns``overlap_genes` of both single cell and spatial Anndatas.\n",
      "INFO:root:uniform based density prior is calculated and saved in `obs``uniform_density` of the spatial Anndata.\n",
      "INFO:root:rna count based density prior is calculated and saved in `obs``rna_count_based_density` of the spatial Anndata.\n"
     ]
    }
   ],
   "source": [
    "markers = list(set.intersection(set(adata_sc.var_names), set(adata_st.var_names)))\n",
    "tg.pp_adatas(adata_sc, adata_st, genes=markers)\n"
   ]
  },
  {
   "cell_type": "code",
   "execution_count": 8,
   "id": "987b89ba",
   "metadata": {},
   "outputs": [],
   "source": [
    "## check if the genes are in the adata\n",
    "assert \"training_genes\" in adata_sc.uns\n",
    "assert \"training_genes\" in adata_st.uns"
   ]
  },
  {
   "cell_type": "markdown",
   "id": "e5568a68",
   "metadata": {},
   "source": [
    "## Map cells to spots"
   ]
  },
  {
   "cell_type": "code",
   "execution_count": 9,
   "id": "13a8184e",
   "metadata": {},
   "outputs": [
    {
     "name": "stderr",
     "output_type": "stream",
     "text": [
      "INFO:root:Allocate tensors for mapping.\n",
      "INFO:root:Begin training with 20399 genes and rna_count_based density_prior in cells mode...\n",
      "INFO:root:Printing scores every 100 epochs.\n"
     ]
    },
    {
     "name": "stdout",
     "output_type": "stream",
     "text": [
      "Score: 0.203, KL reg: 0.013\n",
      "Score: 0.414, KL reg: 0.000\n",
      "Score: 0.426, KL reg: 0.000\n",
      "Score: 0.430, KL reg: 0.000\n",
      "Score: 0.431, KL reg: 0.000\n"
     ]
    },
    {
     "name": "stderr",
     "output_type": "stream",
     "text": [
      "INFO:root:Saving results..\n",
      "INFO:numexpr.utils:Note: NumExpr detected 32 cores but \"NUMEXPR_MAX_THREADS\" not set, so enforcing safe limit of 8.\n",
      "INFO:numexpr.utils:NumExpr defaulting to 8 threads.\n"
     ]
    }
   ],
   "source": [
    "ad_map = tg.map_cells_to_space(\n",
    "    adata_sc,\n",
    "    adata_st,\n",
    "    mode=\"cells\",\n",
    "    density_prior=\"rna_count_based\",\n",
    "    num_epochs=500,\n",
    "    device=\"cuda\",  # or: cpu\n",
    ")"
   ]
  },
  {
   "cell_type": "code",
   "execution_count": 10,
   "id": "65654179",
   "metadata": {},
   "outputs": [
    {
     "name": "stderr",
     "output_type": "stream",
     "text": [
      "INFO:root:spatial prediction dataframe is saved in `obsm` `tangram_ct_pred` of the spatial AnnData.\n"
     ]
    }
   ],
   "source": [
    "## project cell annotations (in out case cell states) in the space: this is for visualization\n",
    "tg.project_cell_annotations(ad_map, adata_st, annotation=\"cell_state\")"
   ]
  },
  {
   "cell_type": "markdown",
   "id": "ba84e1f6",
   "metadata": {},
   "source": [
    "## Select only one best spot for each cell"
   ]
  },
  {
   "cell_type": "markdown",
   "id": "ee15a6db",
   "metadata": {},
   "source": [
    "For each cell, select the spot with the highest probability"
   ]
  },
  {
   "cell_type": "code",
   "execution_count": 11,
   "id": "847572ed",
   "metadata": {},
   "outputs": [],
   "source": [
    "# Select the information of the spots\n",
    "annotation_list = list(pd.unique(adata_sc.obs[\"cell_state\"]))\n",
    "coords = ad_map.var[['array_row', 'array_col']]\n",
    "annotation_spots = np.concatenate(ad_map.var[['annotation_final']].values)\n",
    "spots_order = ad_map.var.index.values\n"
   ]
  },
  {
   "cell_type": "code",
   "execution_count": 12,
   "id": "d2e6e8db",
   "metadata": {},
   "outputs": [],
   "source": [
    "# Add for each cell the most probable spot with its metadata\n",
    "argsort_prob = ad_map.X.argsort()\n",
    "most_prob_spot = [argsort_prob[n][-1] for n in range(ad_map.X.shape[0])]\n",
    "\n",
    "cell_coords_x = [coords.values[l][0] for l in most_prob_spot]\n",
    "cell_coords_y = [coords.values[l][1] for l in most_prob_spot]\n",
    "cell_annotation = [annotation_spots[l] for l in most_prob_spot]\n",
    "cell_spots = [spots_order[l] for l in most_prob_spot]\n",
    "\n",
    "ad_map.obs['cell_coords_x'] = cell_coords_x\n",
    "ad_map.obs['cell_coords_y'] = cell_coords_y\n",
    "ad_map.obs['cell_annotation'] = cell_annotation\n",
    "ad_map.obs['cell_spots'] = cell_spots"
   ]
  },
  {
   "cell_type": "code",
   "execution_count": 16,
   "id": "b5c52712",
   "metadata": {},
   "outputs": [],
   "source": [
    "ad_map.write_h5ad(global_path + 'Results/Heart/Tangram/SAN_ad_map.h5ad')"
   ]
  }
 ],
 "metadata": {
  "kernelspec": {
   "display_name": "Python 3 (ipykernel)",
   "language": "python",
   "name": "python3"
  },
  "language_info": {
   "codemirror_mode": {
    "name": "ipython",
    "version": 3
   },
   "file_extension": ".py",
   "mimetype": "text/x-python",
   "name": "python",
   "nbconvert_exporter": "python",
   "pygments_lexer": "ipython3",
   "version": "3.8.17"
  }
 },
 "nbformat": 4,
 "nbformat_minor": 5
}
