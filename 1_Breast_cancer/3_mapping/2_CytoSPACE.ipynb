{
 "cells": [
  {
   "cell_type": "markdown",
   "id": "54dd263c-4dfc-486d-bea4-35d3ab2f2b0e",
   "metadata": {},
   "source": [
    "# Prepare input CytoSPACE"
   ]
  },
  {
   "cell_type": "code",
   "execution_count": 1,
   "id": "b46ef934",
   "metadata": {},
   "outputs": [],
   "source": [
    "global_path = './cell-cell-communication/' ## Path to the github downloaded repository"
   ]
  },
  {
   "cell_type": "code",
   "execution_count": 2,
   "id": "7ccf31c6-cf52-4000-8821-d5b7878fc080",
   "metadata": {},
   "outputs": [],
   "source": [
    "import scanpy as sc\n",
    "import pandas as pd\n",
    "import matplotlib.pyplot as plt\n",
    "import seaborn as sns\n",
    "import numpy as np\n",
    "\n",
    "import sys\n",
    "sys.path.insert(1, global_path + 'Functions/')\n",
    "from process_visium import visium_noh5\n",
    "patient = 'CID44971'\n",
    "out_path = global_path + 'Data/Breast/Input_cytoSPACE/'\n"
   ]
  },
  {
   "cell_type": "markdown",
   "id": "8aaad796-ed27-4074-9693-8f47766265f9",
   "metadata": {
    "tags": []
   },
   "source": [
    "## Load data "
   ]
  },
  {
   "cell_type": "code",
   "execution_count": 3,
   "id": "1c214c17-9b93-40b9-9d85-3bd651f86c35",
   "metadata": {},
   "outputs": [],
   "source": [
    "## Spatial data\n",
    "\n",
    "main_path_exp = global_path + 'Data/Breast/spatial_data/filtered_count_matrices/'+patient+'_filtered_count_matrix/'\n",
    "main_path_spatial = global_path + 'Data/Breast/spatial_data/spatial/'+patient+'_spatial/'\n",
    "library_id = 'breast_tissue'\n",
    "\n",
    "adata_vis = visium_noh5(main_path_exp, main_path_spatial, library_id)\n",
    "\n",
    "## scRNA-seq data\n",
    "adata = sc.read(global_path+'Data/Breast/normalized_log.h5ad')\n",
    "adata = adata[adata.obs.Patient == patient]"
   ]
  },
  {
   "cell_type": "markdown",
   "id": "347f2882",
   "metadata": {},
   "source": [
    "## Save raw scRNA-seq counts as tsv file"
   ]
  },
  {
   "cell_type": "code",
   "execution_count": 4,
   "id": "1611c5ac-4652-4de1-a639-479c8650c3ec",
   "metadata": {},
   "outputs": [],
   "source": [
    "counts = pd.DataFrame(adata.layers['counts'].toarray()).T\n",
    "counts.columns = adata.obs.index\n",
    "counts.index = adata.var.index\n",
    "counts.index.name='GENES'\n",
    "counts.to_csv(out_path + patient + '_GEX.tsv', sep = '\\t')"
   ]
  },
  {
   "cell_type": "markdown",
   "id": "ae055a31",
   "metadata": {},
   "source": [
    "## Add Celltype information"
   ]
  },
  {
   "cell_type": "code",
   "execution_count": 5,
   "id": "e06e2ddf-13e5-42ff-8eb3-d077d138de8b",
   "metadata": {},
   "outputs": [],
   "source": [
    "cell_label = pd.DataFrame(adata.obs.celltype_minor)\n",
    "cell_label.columns = ['CellType']\n",
    "cell_label.index.name='Cell IDs'\n",
    "cell_label.to_csv(out_path + patient + '_cell_label.tsv', sep = '\\t')"
   ]
  },
  {
   "cell_type": "markdown",
   "id": "7addcc1a",
   "metadata": {},
   "source": [
    "## Save raw spatial counts"
   ]
  },
  {
   "cell_type": "code",
   "execution_count": 6,
   "id": "4f85ccb0-543a-4e0b-bc70-9c041756c034",
   "metadata": {},
   "outputs": [],
   "source": [
    "counts_sp = pd.DataFrame(adata_vis.X.toarray()).T\n",
    "counts_sp.columns = adata_vis.obs.index\n",
    "counts_sp.index = adata_vis.var.index\n",
    "counts_sp.index.name='V1'\n",
    "counts_sp.to_csv(out_path + patient + '_GEX_sp.tsv', sep = '\\t')"
   ]
  },
  {
   "cell_type": "markdown",
   "id": "11802a82-b29d-4e72-95a1-f872a1066432",
   "metadata": {},
   "source": [
    "## Add coords"
   ]
  },
  {
   "cell_type": "code",
   "execution_count": 7,
   "id": "3febc7ad-1bbf-4140-8eab-0d00b1bd3dbc",
   "metadata": {},
   "outputs": [],
   "source": [
    "coords = adata_vis.obs[['array_row', 'array_col']]\n",
    "coords.columns = ['row', 'col']\n",
    "coords.index.name='SpotID'\n",
    "coords.to_csv(out_path + patient +'_coords.tsv', sep = '\\t')"
   ]
  },
  {
   "cell_type": "markdown",
   "id": "f9fbeebc",
   "metadata": {},
   "source": [
    "## Run cytoSPACE using the terminal (bash)"
   ]
  },
  {
   "cell_type": "code",
   "execution_count": null,
   "id": "c5a93a86",
   "metadata": {
    "vscode": {
     "languageId": "shellscript"
    }
   },
   "outputs": [],
   "source": [
    "cytospace \\\n",
    "   -sp ./Data/Breast/Input_cytoSPACE/CID4535_GEX.tsv \\\n",
    "   -ctp ./Data/Breast/Input_cytoSPACE/CID4535_cell_label.tsv \\\n",
    "   -stp ./Data/Breast/Input_cytoSPACE/CID4535_GEX_sp.tsv \\\n",
    "   -cp ./Data/Breast/Input_cytoSPACE/CID4535_coords.tsv \\\n",
    "   -o ./Results/Breast/CytoSPACE/CID4535/"
   ]
  }
 ],
 "metadata": {
  "kernelspec": {
   "display_name": "cell2loc_env",
   "language": "python",
   "name": "python3"
  },
  "language_info": {
   "codemirror_mode": {
    "name": "ipython",
    "version": 3
   },
   "file_extension": ".py",
   "mimetype": "text/x-python",
   "name": "python",
   "nbconvert_exporter": "python",
   "pygments_lexer": "ipython3",
   "version": "3.9.16"
  }
 },
 "nbformat": 4,
 "nbformat_minor": 5
}
