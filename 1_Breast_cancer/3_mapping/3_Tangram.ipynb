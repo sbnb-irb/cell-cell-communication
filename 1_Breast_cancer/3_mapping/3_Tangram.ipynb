{
 "cells": [
  {
   "cell_type": "markdown",
   "metadata": {},
   "source": [
    "# Tangram"
   ]
  },
  {
   "cell_type": "markdown",
   "metadata": {},
   "source": [
    " We followed the procedure outlined in the Tangram GitHub repository: https://github.com/broadinstitute/Tangram. Tangram is an integration method to combine spatial transcriptomics and single-cell RNA-seq data using a non-convex optimization alongside deep learning to leart a spatial alignment for single cell data.\n"
   ]
  },
  {
   "cell_type": "markdown",
   "metadata": {},
   "source": [
    "## Imports"
   ]
  },
  {
   "cell_type": "code",
   "execution_count": 3,
   "metadata": {},
   "outputs": [],
   "source": [
    "global_path = './cell-cell-communication/' ## Path to the github downloaded repository"
   ]
  },
  {
   "cell_type": "code",
   "execution_count": 8,
   "metadata": {},
   "outputs": [],
   "source": [
    "import scanpy as sc\n",
    "# import tangram as tg\n",
    "import numpy as np\n",
    "import pandas as pd\n",
    "import matplotlib.pyplot as plt\n",
    "import sys\n",
    "sys.path.insert(1, global_path + 'Functions/')\n",
    "from process_visium import visium_noh5\n",
    "\n",
    "sc.settings.verbosity = 3\n",
    "sc.settings.set_figure_params(dpi=80, facecolor=\"white\")\n",
    "\n",
    "patient = 'CID4535' ### Change to run for the rest of the patients (CID4290, CID44971, CID4465)"
   ]
  },
  {
   "cell_type": "markdown",
   "metadata": {},
   "source": [
    "## Load the data"
   ]
  },
  {
   "cell_type": "code",
   "execution_count": 9,
   "metadata": {},
   "outputs": [
    {
     "name": "stdout",
     "output_type": "stream",
     "text": [
      "... reading from cache file cache/aloy-home-epareja-2022-single_cell-paper_folders-Data-Breast-spatial_data-filtered_count_matrices-CID4535_filtered_count_matrix-matrix.h5ad\n"
     ]
    }
   ],
   "source": [
    "### Spatial data\n",
    "main_path_exp = global_path + 'Data/Breast/spatial_data/filtered_count_matrices/'+patient+'_filtered_count_matrix/'\n",
    "main_path_spatial = global_path + 'Data/Breast/spatial_data/spatial/'+patient+'_spatial/'\n",
    "library_id = 'breast_tissue'\n",
    "\n",
    "adata_vis = visium_noh5(main_path_exp, main_path_spatial, library_id)\n",
    "meta_patho = pd.read_csv(global_path+'Data/Breast/spatial_data/metadata/'+patient+'_metadata.csv') ## metadata with spot annotation\n",
    "\n",
    "### breast cancer anndata current patient filtered\n",
    "adata_ref = sc.read(global_path+'Data/Breast/normalized_log.h5ad')\n",
    "adata_ref = adata_ref[adata_ref.obs.Patient == patient]"
   ]
  },
  {
   "cell_type": "markdown",
   "metadata": {},
   "source": [
    "## Select common genes between the spatial and the reference dataset"
   ]
  },
  {
   "cell_type": "code",
   "execution_count": 111,
   "metadata": {},
   "outputs": [
    {
     "data": {
      "text/plain": [
       "16253"
      ]
     },
     "execution_count": 111,
     "metadata": {},
     "output_type": "execute_result"
    }
   ],
   "source": [
    "markers = list(set.intersection(set(adata_ref.var_names), set(adata_vis.var_names)))\n",
    "tg.pp_adatas(adata_ref, adata_vis, genes=markers)\n"
   ]
  },
  {
   "cell_type": "code",
   "execution_count": 113,
   "metadata": {},
   "outputs": [],
   "source": [
    "## check if the genes are in the adata\n",
    "assert \"training_genes\" in adata_ref.uns\n",
    "assert \"training_genes\" in adata_vis.uns"
   ]
  },
  {
   "cell_type": "markdown",
   "metadata": {},
   "source": [
    "## Map cells to spots"
   ]
  },
  {
   "cell_type": "code",
   "execution_count": 114,
   "metadata": {},
   "outputs": [
    {
     "name": "stderr",
     "output_type": "stream",
     "text": [
      "INFO:root:Allocate tensors for mapping.\n"
     ]
    },
    {
     "name": "stderr",
     "output_type": "stream",
     "text": [
      "INFO:root:Begin training with 15666 genes and rna_count_based density_prior in cells mode...\n",
      "INFO:root:Printing scores every 100 epochs.\n"
     ]
    },
    {
     "name": "stdout",
     "output_type": "stream",
     "text": [
      "Score: 0.326, KL reg: 0.305\n",
      "Score: 0.548, KL reg: 0.001\n",
      "Score: 0.558, KL reg: 0.000\n",
      "Score: 0.561, KL reg: 0.000\n",
      "Score: 0.562, KL reg: 0.000\n"
     ]
    },
    {
     "name": "stderr",
     "output_type": "stream",
     "text": [
      "INFO:root:Saving results..\n"
     ]
    }
   ],
   "source": [
    "ad_map = tg.map_cells_to_space(\n",
    "    adata_ref,\n",
    "    adata_vis,\n",
    "    mode=\"cells\",\n",
    "    density_prior=\"rna_count_based\",\n",
    "    num_epochs=500,\n",
    "    device=\"cpu\",  # or: cpu\n",
    ")"
   ]
  },
  {
   "cell_type": "code",
   "execution_count": 115,
   "metadata": {},
   "outputs": [
    {
     "name": "stderr",
     "output_type": "stream",
     "text": [
      "INFO:root:spatial prediction dataframe is saved in `obsm` `tangram_ct_pred` of the spatial AnnData.\n"
     ]
    }
   ],
   "source": [
    "## project cell annotations (in our case cell types) in the space: this is for visualization\n",
    "tg.project_cell_annotations(ad_map, adata_vis, annotation=\"celltype_minor\")"
   ]
  },
  {
   "cell_type": "markdown",
   "metadata": {},
   "source": [
    "## Select only one best for each cell."
   ]
  },
  {
   "cell_type": "markdown",
   "metadata": {},
   "source": [
    "For each cell, select the spot with the highest probability."
   ]
  },
  {
   "cell_type": "code",
   "execution_count": 119,
   "metadata": {},
   "outputs": [],
   "source": [
    "## Select the information of the spots\n",
    "all(meta_patho['Unnamed: 0'].values == ad_map.var.index.values) # check\n",
    "ad_map.var['pathology'] = meta_patho['Classification'].values ## add pathology to the spatial data for future analysis\n",
    "annotation_spots = np.concatenate(ad_map.var[['pathology']].values)\n",
    "coords = ad_map.var[['array_row', 'array_col']]\n",
    "spots_order = ad_map.var.index.values"
   ]
  },
  {
   "cell_type": "code",
   "execution_count": 120,
   "metadata": {},
   "outputs": [],
   "source": [
    "## Add for each cell the most probable spot with its metadata\n",
    "argsort_prob = ad_map.X.argsort()\n",
    "most_prob_spot = [argsort_prob[n][-1] for n in range(ad_map.X.shape[0])]\n",
    "\n",
    "cell_coords_x = [coords.values[l][0] for l in most_prob_spot]\n",
    "cell_coords_y = [coords.values[l][1] for l in most_prob_spot]\n",
    "cell_annotation = [annotation_spots[l] for l in most_prob_spot]\n",
    "cell_spots = [spots_order[l] for l in most_prob_spot]\n",
    "\n",
    "ad_map.obs['cell_coords_x'] = cell_coords_x\n",
    "ad_map.obs['cell_coords_y'] = cell_coords_y\n",
    "ad_map.obs['cell_annotation'] = cell_annotation\n",
    "ad_map.obs['cell_spots'] = cell_spots"
   ]
  },
  {
   "cell_type": "code",
   "execution_count": null,
   "metadata": {},
   "outputs": [],
   "source": [
    "ad_map.write_h5ad(global_path + 'Results/Breast/Tangram/'+patient+'_ad_map.h5ad')"
   ]
  }
 ],
 "metadata": {
  "kernelspec": {
   "display_name": "cell2loc_env",
   "language": "python",
   "name": "python3"
  },
  "language_info": {
   "codemirror_mode": {
    "name": "ipython",
    "version": 3
   },
   "file_extension": ".py",
   "mimetype": "text/x-python",
   "name": "python",
   "nbconvert_exporter": "python",
   "pygments_lexer": "ipython3",
   "version": "3.9.16"
  }
 },
 "nbformat": 4,
 "nbformat_minor": 2
}
